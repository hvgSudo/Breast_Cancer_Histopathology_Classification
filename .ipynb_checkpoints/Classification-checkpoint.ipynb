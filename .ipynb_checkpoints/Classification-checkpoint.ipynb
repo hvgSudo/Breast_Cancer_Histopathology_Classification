{
 "cells": [
  {
   "cell_type": "markdown",
   "metadata": {
    "colab_type": "text",
    "id": "view-in-github"
   },
   "source": [
    "<a href=\"https://colab.research.google.com/github/khal-drog0/Breast_Cancer_Histopathology_Classification/blob/main/Classification.ipynb\" target=\"_parent\"><img src=\"https://colab.research.google.com/assets/colab-badge.svg\" alt=\"Open In Colab\"/></a>"
   ]
  },
  {
   "cell_type": "code",
   "execution_count": null,
   "metadata": {
    "id": "CYTIR0tlRvdk"
   },
   "outputs": [],
   "source": [
    "! pip3 install -q kaggle\n",
    "\n",
    "from google.colab import files\n",
    "files.upload()\n",
    "\n",
    "! mkdir ~/.kaggle\n",
    "\n",
    "! cp kaggle.json /root/.kaggle\n",
    "\n",
    "! chmod 600 /root/.kaggle/kaggle.json\n",
    "\n",
    "! kaggle datasets download -d paultimothymooney/breast-histopathology-images\n",
    "\n",
    "! unzip breast-histopathology-images.zip"
   ]
  },
  {
   "cell_type": "code",
   "execution_count": 1,
   "metadata": {
    "id": "GqP0L-MrcvHS"
   },
   "outputs": [],
   "source": [
    "import numpy as np\n",
    "import pandas as pd\n",
    "import os\n",
    "import itertools\n",
    "import os, stat, time\n",
    "from os.path import dirname as up\n",
    "import shutil\n",
    "import glob\n",
    "from PIL import Image"
   ]
  },
  {
   "cell_type": "code",
   "execution_count": 2,
   "metadata": {
    "id": "twgfC0WNcvHW"
   },
   "outputs": [],
   "source": [
    "from glob import glob\n",
    "data = glob('IDC_regular_ps50_idx5/**/*.png', recursive = True)"
   ]
  },
  {
   "cell_type": "code",
   "execution_count": 3,
   "metadata": {
    "colab": {
     "base_uri": "https://localhost:8080/",
     "height": 1000
    },
    "id": "H5Fy_PCxcvHX",
    "outputId": "bd91fcb2-4607-424d-ed9e-0f9e08300f14"
   },
   "outputs": [
    {
     "ename": "ModuleNotFoundError",
     "evalue": "No module named 'cv2'",
     "output_type": "error",
     "traceback": [
      "\u001b[0;31m----------------------------------------------------------------------\u001b[0m",
      "\u001b[0;31mModuleNotFoundError\u001b[0m                  Traceback (most recent call last)",
      "\u001b[0;32m<ipython-input-3-26d2b34af44b>\u001b[0m in \u001b[0;36m<module>\u001b[0;34m\u001b[0m\n\u001b[0;32m----> 1\u001b[0;31m \u001b[0;32mimport\u001b[0m \u001b[0mcv2\u001b[0m\u001b[0;34m\u001b[0m\u001b[0;34m\u001b[0m\u001b[0m\n\u001b[0m\u001b[1;32m      2\u001b[0m \u001b[0;32mimport\u001b[0m \u001b[0mmatplotlib\u001b[0m\u001b[0;34m.\u001b[0m\u001b[0mpyplot\u001b[0m \u001b[0;32mas\u001b[0m \u001b[0mplt\u001b[0m\u001b[0;34m\u001b[0m\u001b[0;34m\u001b[0m\u001b[0m\n\u001b[1;32m      3\u001b[0m \u001b[0;34m\u001b[0m\u001b[0m\n\u001b[1;32m      4\u001b[0m \u001b[0;32mfor\u001b[0m \u001b[0mi\u001b[0m \u001b[0;32min\u001b[0m \u001b[0mdata\u001b[0m\u001b[0;34m[\u001b[0m\u001b[0;34m:\u001b[0m\u001b[0;36m5\u001b[0m\u001b[0;34m]\u001b[0m\u001b[0;34m:\u001b[0m\u001b[0;34m\u001b[0m\u001b[0;34m\u001b[0m\u001b[0m\n\u001b[1;32m      5\u001b[0m     \u001b[0mimg\u001b[0m \u001b[0;34m=\u001b[0m \u001b[0mcv2\u001b[0m\u001b[0;34m.\u001b[0m\u001b[0mimread\u001b[0m\u001b[0;34m(\u001b[0m\u001b[0mi\u001b[0m\u001b[0;34m)\u001b[0m\u001b[0;34m\u001b[0m\u001b[0;34m\u001b[0m\u001b[0m\n",
      "\u001b[0;31mModuleNotFoundError\u001b[0m: No module named 'cv2'"
     ]
    }
   ],
   "source": [
    "import cv2\n",
    "import matplotlib.pyplot as plt\n",
    "\n",
    "for i in data[:5]:\n",
    "    img = cv2.imread(i)\n",
    "    img_1 = cv2.resize(img, (200, 200))\n",
    "    plt.imshow(img_1, cmap = 'binary')\n",
    "    plt.show()"
   ]
  },
  {
   "cell_type": "code",
   "execution_count": null,
   "metadata": {
    "id": "RsbWIA4ncvHY"
   },
   "outputs": [],
   "source": [
    "images = []\n",
    "labels = []\n",
    "\n",
    "for i in data[:15000]:\n",
    "    if i.endswith('.png'):\n",
    "        label = i[-5]\n",
    "        img = cv2.imread(i)\n",
    "        img_1 = cv2.resize(img, (100, 100))\n",
    "        images.append(img_1)\n",
    "        labels.append(label)"
   ]
  },
  {
   "cell_type": "code",
   "execution_count": null,
   "metadata": {
    "colab": {
     "base_uri": "https://localhost:8080/"
    },
    "id": "ncy7B_8jxbdr",
    "outputId": "b70b2a33-8cb7-41f1-e58e-3f8686cb0b40"
   },
   "outputs": [],
   "source": [
    "len(images)"
   ]
  },
  {
   "cell_type": "code",
   "execution_count": null,
   "metadata": {
    "id": "gcgW1ODbcvHZ"
   },
   "outputs": [],
   "source": [
    "x = np.stack(images)"
   ]
  },
  {
   "cell_type": "code",
   "execution_count": null,
   "metadata": {
    "id": "tCyHQGp-cvHZ"
   },
   "outputs": [],
   "source": [
    "from tensorflow.keras.utils import to_categorical\n",
    "y = to_categorical(labels)"
   ]
  },
  {
   "cell_type": "code",
   "execution_count": null,
   "metadata": {
    "id": "usUbEgVgcvHa"
   },
   "outputs": [],
   "source": [
    "x = x / 255"
   ]
  },
  {
   "cell_type": "code",
   "execution_count": null,
   "metadata": {
    "id": "7ExHM-1xcvHa"
   },
   "outputs": [],
   "source": [
    "from sklearn.model_selection import train_test_split\n",
    "\n",
    "x_train, x_test, y_train, y_test = train_test_split(x, y, random_state = 0, test_size = 0.2)"
   ]
  },
  {
   "cell_type": "code",
   "execution_count": null,
   "metadata": {
    "colab": {
     "base_uri": "https://localhost:8080/"
    },
    "id": "P9Yifh7hz6eH",
    "outputId": "d68f4a8a-49a9-4259-a2a0-dfafd15b4758"
   },
   "outputs": [],
   "source": [
    "print('len(x_train):', len(x_train))\n",
    "print('len(x_test):', len(x_test))\n",
    "print('len(y_train):', len(y_train))\n",
    "print('len(y_test):', len(y_test))"
   ]
  },
  {
   "cell_type": "markdown",
   "metadata": {
    "id": "7nAzl58-cvHb"
   },
   "source": [
    "# Building the Neural Network"
   ]
  },
  {
   "cell_type": "code",
   "execution_count": null,
   "metadata": {
    "colab": {
     "base_uri": "https://localhost:8080/"
    },
    "id": "oQN-7YVccvHe",
    "outputId": "a769ef27-04c5-46dc-990b-b37e005c7cdc"
   },
   "outputs": [],
   "source": [
    "from tensorflow.keras.layers import Dense, Dropout, BatchNormalization, Conv2D, MaxPool2D, Flatten\n",
    "from tensorflow.keras.models import Sequential\n",
    "from tensorflow.keras import regularizers\n",
    "from tensorflow.keras import layers\n",
    "from tensorflow.keras.applications import EfficientNetB0\n",
    "from tensorflow.keras.layers.experimental import preprocessing\n",
    "from tensorflow.keras import models, layers\n",
    "\n",
    "def modelEfficientNetB0():\n",
    "    model = models.Sequential()\n",
    "    model.add(EfficientNetB0(include_top = False, weights = 'imagenet', input_shape = (100, 100, 3)))\n",
    "    model.add(layers.GlobalAveragePooling2D())\n",
    "    model.add(layers.Dense(2, activation = 'sigmoid'))\n",
    "\n",
    "    return model\n",
    "\n",
    "model = modelEfficientNetB0()\n",
    "model.summary()"
   ]
  },
  {
   "cell_type": "code",
   "execution_count": null,
   "metadata": {
    "colab": {
     "base_uri": "https://localhost:8080/"
    },
    "id": "WWKfmJXKcvHf",
    "outputId": "817b7219-1804-49ca-f47b-01cc0d7961fe"
   },
   "outputs": [],
   "source": [
    "from tensorflow.keras.optimizers import Adam\n",
    "\n",
    "opt = Adam(lr = 0.00001, beta_1 = 0.9, beta_2 = 0.999, epsilon = None, decay = 0.0, amsgrad =  False)\n",
    "model.compile(optimizer = opt, loss = 'binary_crossentropy', metrics = ['acc'])"
   ]
  },
  {
   "cell_type": "markdown",
   "metadata": {
    "id": "5szTrqy2cvHg"
   },
   "source": [
    "# Training the model"
   ]
  },
  {
   "cell_type": "code",
   "execution_count": null,
   "metadata": {
    "colab": {
     "base_uri": "https://localhost:8080/"
    },
    "id": "D4dKHT8HcvHh",
    "outputId": "ac86a942-e22f-4c0f-c61e-bf670023fe67"
   },
   "outputs": [],
   "source": [
    "history = model.fit(x, y, epochs = 100, validation_split = 0.4, batch_size = 56)"
   ]
  },
  {
   "cell_type": "markdown",
   "metadata": {
    "id": "TpTsqo6dcvHh"
   },
   "source": [
    "# Evaluating the model"
   ]
  },
  {
   "cell_type": "code",
   "execution_count": null,
   "metadata": {
    "id": "_382ydCBcvHi"
   },
   "outputs": [],
   "source": [
    "loss, accuracy = model.evaluate(x_test, y_test)"
   ]
  },
  {
   "cell_type": "code",
   "execution_count": null,
   "metadata": {
    "id": "wWf8-8ifcvHi"
   },
   "outputs": [],
   "source": [
    "plt.figure(figsize = (12, 5))\n",
    "plt.plot(history.history['loss'])\n",
    "plt.plot(history.history['val_loss'])\n",
    "plt.xlabel('epochs')\n",
    "plt.ylabel('loss')\n",
    "plt.legend(['train_data', 'test_data'])\n",
    "plt.title('Loss Analysis')\n",
    "plt.show()"
   ]
  },
  {
   "cell_type": "code",
   "execution_count": null,
   "metadata": {
    "id": "tvmGPBHscvHj"
   },
   "outputs": [],
   "source": [
    "plt.figure(figsize = (12, 5))\n",
    "plt.plot(history.history['acc'])\n",
    "plt.plot(history.history['val_acc'])\n",
    "plt.xlabel('epochs')\n",
    "plt.ylabel('accuracy')\n",
    "plt.legend(['train_data', 'test_data'])\n",
    "plt.title('Accuracy Analysis')\n",
    "plt.show()"
   ]
  },
  {
   "cell_type": "markdown",
   "metadata": {
    "id": "5xNpwiz-cvHj"
   },
   "source": [
    "# Testing with random inputs"
   ]
  },
  {
   "cell_type": "code",
   "execution_count": null,
   "metadata": {
    "id": "ldL2hCA011v3"
   },
   "outputs": [],
   "source": [
    "IMG = Image.open('../breast-histopathology-images/10253/0/10253_idx5_x1001_y1101_class0.png')\n",
    "print(type(IMG))\n",
    "\n",
    "IMG = IMG.resize((100, 100))\n",
    "IMG = np.array(IMG)\n",
    "print('po array = {}'.format(IMG.shape))\n",
    "\n",
    "IMG = np.true_divide(IMG, 255)\n",
    "IMG = IMG.reshape(-1, 100, 100, 3)\n",
    "print(type(IMG), IMG.shape)\n",
    "\n",
    "predictions = model.predict_classes(IMG)\n",
    "print(model)\n",
    "\n",
    "predictions_c = model.predict_classes(IMG)\n",
    "print(predictions, predictions_c)\n",
    "\n",
    "model.predict_classes(IMG)\n",
    "model.predict(IMG)\n",
    "print(predictions_c)"
   ]
  },
  {
   "cell_type": "code",
   "execution_count": null,
   "metadata": {
    "id": "KevL8WAj3wJN"
   },
   "outputs": [],
   "source": [
    "classes = {'TRAIN': ['Non Malignant (No Cancer)','Malignant'],\n",
    "           'TEST': ['Non Malignant (No Cancer)', 'Malignant']}\n",
    "\n",
    "predicted_class = classes['TRAIN'][predicitions_c[0]]\n",
    "print('We think that is {}'.format(predicted_class.lower()))"
   ]
  },
  {
   "cell_type": "markdown",
   "metadata": {
    "id": "IHD-VYoq4OuT"
   },
   "source": [
    "# Saving the model"
   ]
  },
  {
   "cell_type": "code",
   "execution_count": null,
   "metadata": {
    "id": "HtPaC7mo4M9E"
   },
   "outputs": [],
   "source": [
    "model.save_weights('_model_.h5')\n",
    "\n",
    "model_json = model.to_json()\n",
    "with open('_model_.json', 'w') as json_file:\n",
    "    json_file.write(model_json)\n",
    "\n",
    "print('Model saved to the disk.')"
   ]
  },
  {
   "cell_type": "code",
   "execution_count": null,
   "metadata": {
    "id": "OZgGOpOu4iQt"
   },
   "outputs": [],
   "source": []
  }
 ],
 "metadata": {
  "accelerator": "GPU",
  "colab": {
   "collapsed_sections": [],
   "include_colab_link": true,
   "name": "Classification.ipynb",
   "provenance": []
  },
  "interpreter": {
   "hash": "916dbcbb3f70747c44a77c7bcd40155683ae19c65e1c03b4aa3499c5328201f1"
  },
  "kernelspec": {
   "display_name": "Python 3",
   "language": "python",
   "name": "python3"
  },
  "language_info": {
   "codemirror_mode": {
    "name": "ipython",
    "version": 3
   },
   "file_extension": ".py",
   "mimetype": "text/x-python",
   "name": "python",
   "nbconvert_exporter": "python",
   "pygments_lexer": "ipython3",
   "version": "3.8.10"
  }
 },
 "nbformat": 4,
 "nbformat_minor": 1
}
